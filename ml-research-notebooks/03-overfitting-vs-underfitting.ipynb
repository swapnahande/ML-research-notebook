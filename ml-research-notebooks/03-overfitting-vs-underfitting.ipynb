{
 "cells": [
  {
   "cell_type": "markdown",
   "id": "3a8cf71b",
   "metadata": {},
   "source": [
    "# 🎯 Overfitting vs Underfitting\n",
    "In this notebook, we'll:\n",
    "- Generate a noisy polynomial dataset\n",
    "- Fit models of different complexity (linear, medium, high-degree)\n",
    "- Visualize how model complexity affects performance"
   ]
  },
  {
   "cell_type": "code",
   "execution_count": null,
   "id": "49084d31",
   "metadata": {},
   "outputs": [],
   "source": [
    "import numpy as np\n",
    "import matplotlib.pyplot as plt\n",
    "from sklearn.preprocessing import PolynomialFeatures\n",
    "from sklearn.linear_model import LinearRegression\n",
    "from sklearn.pipeline import make_pipeline"
   ]
  },
  {
   "cell_type": "code",
   "execution_count": null,
   "id": "b95c3f92",
   "metadata": {},
   "outputs": [],
   "source": [
    "# Generate data\n",
    "np.random.seed(42)\n",
    "X = np.sort(np.random.rand(30, 1) * 2 - 1, axis=0)  # range: [-1, 1]\n",
    "y = X**5 - X**3 + 0.2 * np.random.randn(30, 1)  # True function + noise"
   ]
  },
  {
   "cell_type": "code",
   "execution_count": null,
   "id": "7c730b43",
   "metadata": {},
   "outputs": [],
   "source": [
    "# Plot the true data\n",
    "plt.scatter(X, y, color='black', label='Noisy Data')\n",
    "plt.xlabel('X')\n",
    "plt.ylabel('y')\n",
    "plt.title('Noisy Polynomial Data')\n",
    "plt.legend()\n",
    "plt.grid(True)\n",
    "plt.show()"
   ]
  },
  {
   "cell_type": "code",
   "execution_count": null,
   "id": "884abfee",
   "metadata": {},
   "outputs": [],
   "source": [
    "def plot_model(degree, ax):\n",
    "    model = make_pipeline(PolynomialFeatures(degree), LinearRegression())\n",
    "    model.fit(X, y)\n",
    "\n",
    "    X_test = np.linspace(-1, 1, 200).reshape(-1, 1)\n",
    "    y_pred = model.predict(X_test)\n",
    "\n",
    "    ax.scatter(X, y, color='black', s=20)\n",
    "    ax.plot(X_test, y_pred, color='red')\n",
    "    ax.set_title(f\"Degree = {degree}\")\n",
    "    ax.set_ylim(-1, 1.5)"
   ]
  },
  {
   "cell_type": "code",
   "execution_count": null,
   "id": "7dfde0a5",
   "metadata": {},
   "outputs": [],
   "source": [
    "# Plot underfitting vs good fit vs overfitting\n",
    "fig, axes = plt.subplots(1, 3, figsize=(18, 5))\n",
    "for ax, degree in zip(axes, [1, 4, 15]):\n",
    "    plot_model(degree, ax)\n",
    "plt.suptitle('Underfitting vs Good Fit vs Overfitting')\n",
    "plt.show()"
   ]
  },
  {
   "cell_type": "markdown",
   "id": "6bf65afa",
   "metadata": {},
   "source": [
    "### 🔍 Summary:\n",
    "- **Degree 1**: Underfits (too simple, misses patterns)\n",
    "- **Degree 4**: Fits well\n",
    "- **Degree 15**: Overfits (memorizes noise)\n",
    "\n",
    "This visually demonstrates the **bias-variance tradeoff** in machine learning."
   ]
  }
 ],
 "metadata": {},
 "nbformat": 4,
 "nbformat_minor": 5
}
